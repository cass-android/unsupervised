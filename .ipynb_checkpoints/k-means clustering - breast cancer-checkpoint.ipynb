{
 "cells": [
  {
   "cell_type": "code",
   "execution_count": 65,
   "metadata": {},
   "outputs": [],
   "source": [
    "import pandas as pd\n",
    "import numpy as np\n",
    "from sklearn.cluster import KMeans\n",
    "from sklearn.preprocessing import LabelEncoder\n",
    "from sklearn.preprocessing import MinMaxScaler\n",
    "import seaborn as sns\n",
    "import matplotlib.pyplot as plt\n",
    "%matplotlib inline"
   ]
  },
  {
   "cell_type": "markdown",
   "metadata": {},
   "source": [
    "Importing our Data"
   ]
  },
  {
   "cell_type": "code",
   "execution_count": 106,
   "metadata": {},
   "outputs": [
    {
     "data": {
      "text/html": [
       "<div>\n",
       "<style scoped>\n",
       "    .dataframe tbody tr th:only-of-type {\n",
       "        vertical-align: middle;\n",
       "    }\n",
       "\n",
       "    .dataframe tbody tr th {\n",
       "        vertical-align: top;\n",
       "    }\n",
       "\n",
       "    .dataframe thead th {\n",
       "        text-align: right;\n",
       "    }\n",
       "</style>\n",
       "<table border=\"1\" class=\"dataframe\">\n",
       "  <thead>\n",
       "    <tr style=\"text-align: right;\">\n",
       "      <th></th>\n",
       "      <th>0</th>\n",
       "      <th>1</th>\n",
       "      <th>2</th>\n",
       "      <th>3</th>\n",
       "      <th>4</th>\n",
       "      <th>5</th>\n",
       "      <th>6</th>\n",
       "      <th>7</th>\n",
       "      <th>8</th>\n",
       "      <th>9</th>\n",
       "      <th>...</th>\n",
       "      <th>21</th>\n",
       "      <th>22</th>\n",
       "      <th>23</th>\n",
       "      <th>24</th>\n",
       "      <th>25</th>\n",
       "      <th>26</th>\n",
       "      <th>27</th>\n",
       "      <th>28</th>\n",
       "      <th>29</th>\n",
       "      <th>30</th>\n",
       "    </tr>\n",
       "  </thead>\n",
       "  <tbody>\n",
       "    <tr>\n",
       "      <th>0</th>\n",
       "      <td>17.99</td>\n",
       "      <td>10.38</td>\n",
       "      <td>122.80</td>\n",
       "      <td>1001.0</td>\n",
       "      <td>0.11840</td>\n",
       "      <td>0.27760</td>\n",
       "      <td>0.3001</td>\n",
       "      <td>0.14710</td>\n",
       "      <td>0.2419</td>\n",
       "      <td>0.07871</td>\n",
       "      <td>...</td>\n",
       "      <td>17.33</td>\n",
       "      <td>184.60</td>\n",
       "      <td>2019.0</td>\n",
       "      <td>0.1622</td>\n",
       "      <td>0.6656</td>\n",
       "      <td>0.7119</td>\n",
       "      <td>0.2654</td>\n",
       "      <td>0.4601</td>\n",
       "      <td>0.11890</td>\n",
       "      <td>0.0</td>\n",
       "    </tr>\n",
       "    <tr>\n",
       "      <th>1</th>\n",
       "      <td>20.57</td>\n",
       "      <td>17.77</td>\n",
       "      <td>132.90</td>\n",
       "      <td>1326.0</td>\n",
       "      <td>0.08474</td>\n",
       "      <td>0.07864</td>\n",
       "      <td>0.0869</td>\n",
       "      <td>0.07017</td>\n",
       "      <td>0.1812</td>\n",
       "      <td>0.05667</td>\n",
       "      <td>...</td>\n",
       "      <td>23.41</td>\n",
       "      <td>158.80</td>\n",
       "      <td>1956.0</td>\n",
       "      <td>0.1238</td>\n",
       "      <td>0.1866</td>\n",
       "      <td>0.2416</td>\n",
       "      <td>0.1860</td>\n",
       "      <td>0.2750</td>\n",
       "      <td>0.08902</td>\n",
       "      <td>0.0</td>\n",
       "    </tr>\n",
       "    <tr>\n",
       "      <th>2</th>\n",
       "      <td>19.69</td>\n",
       "      <td>21.25</td>\n",
       "      <td>130.00</td>\n",
       "      <td>1203.0</td>\n",
       "      <td>0.10960</td>\n",
       "      <td>0.15990</td>\n",
       "      <td>0.1974</td>\n",
       "      <td>0.12790</td>\n",
       "      <td>0.2069</td>\n",
       "      <td>0.05999</td>\n",
       "      <td>...</td>\n",
       "      <td>25.53</td>\n",
       "      <td>152.50</td>\n",
       "      <td>1709.0</td>\n",
       "      <td>0.1444</td>\n",
       "      <td>0.4245</td>\n",
       "      <td>0.4504</td>\n",
       "      <td>0.2430</td>\n",
       "      <td>0.3613</td>\n",
       "      <td>0.08758</td>\n",
       "      <td>0.0</td>\n",
       "    </tr>\n",
       "    <tr>\n",
       "      <th>3</th>\n",
       "      <td>11.42</td>\n",
       "      <td>20.38</td>\n",
       "      <td>77.58</td>\n",
       "      <td>386.1</td>\n",
       "      <td>0.14250</td>\n",
       "      <td>0.28390</td>\n",
       "      <td>0.2414</td>\n",
       "      <td>0.10520</td>\n",
       "      <td>0.2597</td>\n",
       "      <td>0.09744</td>\n",
       "      <td>...</td>\n",
       "      <td>26.50</td>\n",
       "      <td>98.87</td>\n",
       "      <td>567.7</td>\n",
       "      <td>0.2098</td>\n",
       "      <td>0.8663</td>\n",
       "      <td>0.6869</td>\n",
       "      <td>0.2575</td>\n",
       "      <td>0.6638</td>\n",
       "      <td>0.17300</td>\n",
       "      <td>0.0</td>\n",
       "    </tr>\n",
       "    <tr>\n",
       "      <th>4</th>\n",
       "      <td>20.29</td>\n",
       "      <td>14.34</td>\n",
       "      <td>135.10</td>\n",
       "      <td>1297.0</td>\n",
       "      <td>0.10030</td>\n",
       "      <td>0.13280</td>\n",
       "      <td>0.1980</td>\n",
       "      <td>0.10430</td>\n",
       "      <td>0.1809</td>\n",
       "      <td>0.05883</td>\n",
       "      <td>...</td>\n",
       "      <td>16.67</td>\n",
       "      <td>152.20</td>\n",
       "      <td>1575.0</td>\n",
       "      <td>0.1374</td>\n",
       "      <td>0.2050</td>\n",
       "      <td>0.4000</td>\n",
       "      <td>0.1625</td>\n",
       "      <td>0.2364</td>\n",
       "      <td>0.07678</td>\n",
       "      <td>0.0</td>\n",
       "    </tr>\n",
       "  </tbody>\n",
       "</table>\n",
       "<p>5 rows × 31 columns</p>\n",
       "</div>"
      ],
      "text/plain": [
       "      0      1       2       3        4        5       6        7       8   \\\n",
       "0  17.99  10.38  122.80  1001.0  0.11840  0.27760  0.3001  0.14710  0.2419   \n",
       "1  20.57  17.77  132.90  1326.0  0.08474  0.07864  0.0869  0.07017  0.1812   \n",
       "2  19.69  21.25  130.00  1203.0  0.10960  0.15990  0.1974  0.12790  0.2069   \n",
       "3  11.42  20.38   77.58   386.1  0.14250  0.28390  0.2414  0.10520  0.2597   \n",
       "4  20.29  14.34  135.10  1297.0  0.10030  0.13280  0.1980  0.10430  0.1809   \n",
       "\n",
       "        9   ...     21      22      23      24      25      26      27  \\\n",
       "0  0.07871  ...  17.33  184.60  2019.0  0.1622  0.6656  0.7119  0.2654   \n",
       "1  0.05667  ...  23.41  158.80  1956.0  0.1238  0.1866  0.2416  0.1860   \n",
       "2  0.05999  ...  25.53  152.50  1709.0  0.1444  0.4245  0.4504  0.2430   \n",
       "3  0.09744  ...  26.50   98.87   567.7  0.2098  0.8663  0.6869  0.2575   \n",
       "4  0.05883  ...  16.67  152.20  1575.0  0.1374  0.2050  0.4000  0.1625   \n",
       "\n",
       "       28       29   30  \n",
       "0  0.4601  0.11890  0.0  \n",
       "1  0.2750  0.08902  0.0  \n",
       "2  0.3613  0.08758  0.0  \n",
       "3  0.6638  0.17300  0.0  \n",
       "4  0.2364  0.07678  0.0  \n",
       "\n",
       "[5 rows x 31 columns]"
      ]
     },
     "execution_count": 106,
     "metadata": {},
     "output_type": "execute_result"
    }
   ],
   "source": [
    "# Loading the breast cancer dataset\n",
    "from sklearn.datasets import load_breast_cancer\n",
    "\n",
    "breast = load_breast_cancer()\n",
    "breast_data = breast.data \n",
    "breast_labels = breast.target # these are the labels to predict (benign/ malignant)\n",
    "\n",
    "labels = np.reshape(breast_labels,(569,1)) \n",
    "final_breast_data = np.concatenate([breast_data,labels],axis=1) # build full dataset\n",
    "breast_dataset = pd.DataFrame(final_breast_data) # make into a dataframe\n",
    "breast_dataset.head()"
   ]
  },
  {
   "cell_type": "code",
   "execution_count": 107,
   "metadata": {},
   "outputs": [],
   "source": [
    "# adding the feature names to columns, names to labels\n",
    "\n",
    "features = breast.feature_names\n",
    "features_labels = np.append(features,'label')\n",
    "breast_dataset.columns = features_labels\n",
    "#breast_dataset['label'].replace(0, 'Benign',inplace=True)\n",
    "#breast_dataset['label'].replace(1, 'Malignant',inplace=True)\n"
   ]
  },
  {
   "cell_type": "code",
   "execution_count": null,
   "metadata": {},
   "outputs": [],
   "source": [
    "# breast_dataset.info() note: everything is already numerical! yay"
   ]
  },
  {
   "cell_type": "code",
   "execution_count": 108,
   "metadata": {},
   "outputs": [],
   "source": [
    "# Split into train and test sets\n",
    "\n",
    "from sklearn.model_selection import train_test_split\n",
    "\n",
    "train, test = train_test_split(breast_dataset, test_size=0.2)"
   ]
  },
  {
   "cell_type": "markdown",
   "metadata": {},
   "source": [
    "Exploring our Data"
   ]
  },
  {
   "cell_type": "code",
   "execution_count": 109,
   "metadata": {},
   "outputs": [
    {
     "name": "stdout",
     "output_type": "stream",
     "text": [
      "***** Train_Set *****\n",
      "     mean radius  mean texture  mean perimeter  mean area  mean smoothness  \\\n",
      "171        13.43         19.63           85.84      565.4          0.09048   \n",
      "530        11.75         17.56           75.89      422.9          0.10730   \n",
      "310        11.70         19.11           74.33      418.7          0.08814   \n",
      "324        12.20         15.21           78.01      457.9          0.08673   \n",
      "227        15.00         15.51           97.45      684.5          0.08371   \n",
      "\n",
      "     mean compactness  mean concavity  mean concave points  mean symmetry  \\\n",
      "171           0.06288         0.05858              0.03438         0.1598   \n",
      "530           0.09713         0.05282              0.04440         0.1598   \n",
      "310           0.05253         0.01583              0.01148         0.1936   \n",
      "324           0.06545         0.01994              0.01692         0.1638   \n",
      "227           0.10960         0.06505              0.03780         0.1881   \n",
      "\n",
      "     mean fractal dimension  ...  worst texture  worst perimeter  worst area  \\\n",
      "171                 0.05671  ...          29.87           116.60       993.6   \n",
      "530                 0.06677  ...          27.98            88.52       552.3   \n",
      "310                 0.06128  ...          26.55            80.92       483.1   \n",
      "324                 0.06129  ...          21.38            91.11       583.1   \n",
      "227                 0.05907  ...          19.31           114.20       808.2   \n",
      "\n",
      "     worst smoothness  worst compactness  worst concavity  \\\n",
      "171            0.1401             0.1546          0.26440   \n",
      "530            0.1349             0.1854          0.13660   \n",
      "310            0.1223             0.1087          0.07915   \n",
      "324            0.1256             0.1928          0.11670   \n",
      "227            0.1136             0.3627          0.34020   \n",
      "\n",
      "     worst concave points  worst symmetry  worst fractal dimension  label  \n",
      "171               0.11600          0.2884                  0.07371    0.0  \n",
      "530               0.10100          0.2478                  0.07757    1.0  \n",
      "310               0.05741          0.3487                  0.06958    1.0  \n",
      "324               0.05556          0.2661                  0.07961    1.0  \n",
      "227               0.13790          0.2954                  0.08362    1.0  \n",
      "\n",
      "[5 rows x 31 columns]\n",
      "\n",
      "\n",
      "***** Test_Set *****\n",
      "     mean radius  mean texture  mean perimeter  mean area  mean smoothness  \\\n",
      "390        10.26         12.22           65.75      321.6          0.09996   \n",
      "146        11.80         16.58           78.99      432.0          0.10910   \n",
      "178        13.01         22.22           82.01      526.4          0.06251   \n",
      "184        15.28         22.41           98.92      710.6          0.09057   \n",
      "19         13.54         14.36           87.46      566.3          0.09779   \n",
      "\n",
      "     mean compactness  mean concavity  mean concave points  mean symmetry  \\\n",
      "390           0.07542        0.019230             0.019680         0.1800   \n",
      "146           0.17000        0.165900             0.074150         0.2678   \n",
      "178           0.01938        0.001595             0.001852         0.1395   \n",
      "184           0.10520        0.053750             0.032630         0.1727   \n",
      "19            0.08129        0.066640             0.047810         0.1885   \n",
      "\n",
      "     mean fractal dimension  ...  worst texture  worst perimeter  worst area  \\\n",
      "390                 0.06569  ...          15.65            73.23       394.5   \n",
      "146                 0.07371  ...          26.38            91.93       591.7   \n",
      "178                 0.05234  ...          29.02            88.18       608.8   \n",
      "184                 0.06317  ...          28.03           113.80       973.1   \n",
      "19                  0.05766  ...          19.26            99.70       711.2   \n",
      "\n",
      "     worst smoothness  worst compactness  worst concavity  \\\n",
      "390           0.13430            0.16500         0.086150   \n",
      "146           0.13850            0.40920         0.450400   \n",
      "178           0.08125            0.03432         0.007977   \n",
      "184           0.13010            0.32990         0.363000   \n",
      "19            0.14400            0.17730         0.239000   \n",
      "\n",
      "     worst concave points  worst symmetry  worst fractal dimension  label  \n",
      "390              0.066960          0.2937                  0.07722    1.0  \n",
      "146              0.186500          0.5774                  0.10300    0.0  \n",
      "178              0.009259          0.2295                  0.05843    1.0  \n",
      "184              0.122600          0.3175                  0.09772    0.0  \n",
      "19               0.128800          0.2977                  0.07259    1.0  \n",
      "\n",
      "[5 rows x 31 columns]\n"
     ]
    }
   ],
   "source": [
    "print(\"***** Train_Set *****\")\n",
    "print(train.head())\n",
    "print(\"\\n\")\n",
    "print(\"***** Test_Set *****\")\n",
    "print(test.head())"
   ]
  },
  {
   "cell_type": "code",
   "execution_count": 110,
   "metadata": {},
   "outputs": [
    {
     "name": "stdout",
     "output_type": "stream",
     "text": [
      "***** Train_Set *****\n",
      "       mean radius  mean texture  mean perimeter    mean area  \\\n",
      "count   455.000000    455.000000      455.000000   455.000000   \n",
      "mean     14.077347     19.372110       91.604593   651.509670   \n",
      "std       3.576209      4.372072       24.624365   355.323123   \n",
      "min       6.981000      9.710000       43.790000   143.500000   \n",
      "25%      11.605000     16.175000       74.430000   411.100000   \n",
      "50%      13.240000     18.900000       85.890000   538.900000   \n",
      "75%      15.740000     21.710000      103.700000   770.050000   \n",
      "max      28.110000     39.280000      188.500000  2499.000000   \n",
      "\n",
      "       mean smoothness  mean compactness  mean concavity  mean concave points  \\\n",
      "count       455.000000        455.000000      455.000000           455.000000   \n",
      "mean          0.096053          0.103377        0.088261             0.048401   \n",
      "std           0.014115          0.053333        0.080321             0.039063   \n",
      "min           0.052630          0.023440        0.000000             0.000000   \n",
      "25%           0.085640          0.064130        0.029320             0.019650   \n",
      "50%           0.095160          0.090970        0.059400             0.033340   \n",
      "75%           0.105000          0.128650        0.128250             0.070395   \n",
      "max           0.163400          0.345400        0.426800             0.201200   \n",
      "\n",
      "       mean symmetry  mean fractal dimension  ...  worst texture  \\\n",
      "count     455.000000              455.000000  ...     455.000000   \n",
      "mean        0.180561                0.062781  ...      25.760967   \n",
      "std         0.027038                0.007174  ...       6.215513   \n",
      "min         0.120300                0.049960  ...      12.020000   \n",
      "25%         0.161800                0.057885  ...      20.970000   \n",
      "50%         0.177900                0.061400  ...      25.260000   \n",
      "75%         0.194400                0.066005  ...      30.135000   \n",
      "max         0.290600                0.097440  ...      49.540000   \n",
      "\n",
      "       worst perimeter   worst area  worst smoothness  worst compactness  \\\n",
      "count       455.000000   455.000000        455.000000         455.000000   \n",
      "mean        106.852462   875.607692          0.131970           0.252916   \n",
      "std          33.953703   568.095570          0.022767           0.160818   \n",
      "min          50.410000   185.200000          0.071170           0.027290   \n",
      "25%          83.560000   506.700000          0.115500           0.140000   \n",
      "50%          97.110000   674.700000          0.131200           0.209700   \n",
      "75%         124.600000  1039.500000          0.146450           0.338500   \n",
      "max         229.300000  3432.000000          0.222600           1.058000   \n",
      "\n",
      "       worst concavity  worst concave points  worst symmetry  \\\n",
      "count       455.000000            455.000000      455.000000   \n",
      "mean          0.270903              0.113370        0.288585   \n",
      "std           0.211409              0.065977        0.061341   \n",
      "min           0.000000              0.000000        0.160300   \n",
      "25%           0.109000              0.062245        0.249400   \n",
      "50%           0.226000              0.098150        0.279200   \n",
      "75%           0.379250              0.161300        0.314450   \n",
      "max           1.252000              0.291000        0.663800   \n",
      "\n",
      "       worst fractal dimension       label  \n",
      "count               455.000000  455.000000  \n",
      "mean                  0.083864    0.637363  \n",
      "std                   0.018250    0.481291  \n",
      "min                   0.055210    0.000000  \n",
      "25%                   0.071190    0.000000  \n",
      "50%                   0.079990    1.000000  \n",
      "75%                   0.091690    1.000000  \n",
      "max                   0.207500    1.000000  \n",
      "\n",
      "[8 rows x 31 columns]\n",
      "\n",
      "\n",
      "***** Test_Set *****\n",
      "       mean radius  mean texture  mean perimeter    mean area  \\\n",
      "count   114.000000    114.000000      114.000000   114.000000   \n",
      "mean     14.326632     18.960526       93.423596   668.377193   \n",
      "std       3.315225      4.006326       23.000851   339.151071   \n",
      "min       8.598000     10.720000       54.340000   221.800000   \n",
      "25%      11.892500     16.210000       77.855000   434.750000   \n",
      "50%      13.650000     18.585000       88.080000   573.550000   \n",
      "75%      16.305000     22.125000      106.900000   829.750000   \n",
      "max      27.420000     29.370000      186.900000  2501.000000   \n",
      "\n",
      "       mean smoothness  mean compactness  mean concavity  mean concave points  \\\n",
      "count       114.000000        114.000000      114.000000           114.000000   \n",
      "mean          0.097586          0.108188        0.090946             0.050986   \n",
      "std           0.013854          0.050727        0.077582             0.037846   \n",
      "min           0.062510          0.019380        0.000000             0.000000   \n",
      "25%           0.087720          0.065985        0.032235             0.023160   \n",
      "50%           0.097470          0.101400        0.066435             0.037370   \n",
      "75%           0.106975          0.143550        0.141425             0.076750   \n",
      "max           0.133500          0.257600        0.363500             0.168900   \n",
      "\n",
      "       mean symmetry  mean fractal dimension  ...  worst texture  \\\n",
      "count     114.000000              114.000000  ...     114.000000   \n",
      "mean        0.183559                0.062863  ...      25.342982   \n",
      "std         0.028866                0.006618  ...       5.876243   \n",
      "min         0.106000                0.052230  ...      12.870000   \n",
      "25%         0.163575                0.057525  ...      21.407500   \n",
      "50%         0.184700                0.061915  ...      25.775000   \n",
      "75%         0.198975                0.067150  ...      28.985000   \n",
      "max         0.304000                0.081160  ...      39.340000   \n",
      "\n",
      "       worst perimeter   worst area  worst smoothness  worst compactness  \\\n",
      "count       114.000000   114.000000        114.000000         114.000000   \n",
      "mean        108.892632   900.441228          0.133959           0.259651   \n",
      "std          32.256053   576.457493          0.023124           0.143134   \n",
      "min          58.360000   259.200000          0.081250           0.034320   \n",
      "25%          86.425000   533.325000          0.118525           0.158900   \n",
      "50%         101.500000   719.750000          0.132500           0.233250   \n",
      "75%         127.975000  1161.250000          0.142775           0.337950   \n",
      "max         251.200000  4254.000000          0.190900           0.739400   \n",
      "\n",
      "       worst concavity  worst concave points  worst symmetry  \\\n",
      "count       114.000000            114.000000      114.000000   \n",
      "mean          0.277319              0.119542        0.296025   \n",
      "std           0.197931              0.064799        0.063856   \n",
      "min           0.000000              0.000000        0.156500   \n",
      "25%           0.124400              0.075165        0.253825   \n",
      "50%           0.234400              0.103100        0.294250   \n",
      "75%           0.398350              0.165375        0.321875   \n",
      "max           0.903400              0.262500        0.577400   \n",
      "\n",
      "       worst fractal dimension       label  \n",
      "count               114.000000  114.000000  \n",
      "mean                  0.084272    0.587719  \n",
      "std                   0.017362    0.494418  \n",
      "min                   0.055040    0.000000  \n",
      "25%                   0.072447    0.000000  \n",
      "50%                   0.080145    1.000000  \n",
      "75%                   0.092365    1.000000  \n",
      "max                   0.140200    1.000000  \n",
      "\n",
      "[8 rows x 31 columns]\n"
     ]
    }
   ],
   "source": [
    "print(\"***** Train_Set *****\")\n",
    "print(train.describe())\n",
    "print(\"\\n\")\n",
    "print(\"***** Test_Set *****\")\n",
    "print(test.describe())"
   ]
  },
  {
   "cell_type": "code",
   "execution_count": 111,
   "metadata": {},
   "outputs": [
    {
     "name": "stdout",
     "output_type": "stream",
     "text": [
      "['mean radius' 'mean texture' 'mean perimeter' 'mean area'\n",
      " 'mean smoothness' 'mean compactness' 'mean concavity'\n",
      " 'mean concave points' 'mean symmetry' 'mean fractal dimension'\n",
      " 'radius error' 'texture error' 'perimeter error' 'area error'\n",
      " 'smoothness error' 'compactness error' 'concavity error'\n",
      " 'concave points error' 'symmetry error' 'fractal dimension error'\n",
      " 'worst radius' 'worst texture' 'worst perimeter' 'worst area'\n",
      " 'worst smoothness' 'worst compactness' 'worst concavity'\n",
      " 'worst concave points' 'worst symmetry' 'worst fractal dimension' 'label']\n"
     ]
    }
   ],
   "source": [
    "print(train.columns.values)"
   ]
  },
  {
   "cell_type": "code",
   "execution_count": 112,
   "metadata": {},
   "outputs": [
    {
     "data": {
      "text/plain": [
       "<seaborn.axisgrid.FacetGrid at 0x1a1f64d4a8>"
      ]
     },
     "execution_count": 112,
     "metadata": {},
     "output_type": "execute_result"
    },
    {
     "data": {
      "image/png": "[encoded data removed]",
      "text/plain": [
       "<Figure size 432x216 with 2 Axes>"
      ]
     },
     "metadata": {
      "needs_background": "light"
     },
     "output_type": "display_data"
    }
   ],
   "source": [
    "# plotting\n",
    "g = sns.FacetGrid(train, col='label')\n",
    "g.map(plt.hist, 'mean radius', bins=20)\n"
   ]
  },
  {
   "cell_type": "markdown",
   "metadata": {},
   "source": [
    "Preparing our Data for Clustering"
   ]
  },
  {
   "cell_type": "code",
   "execution_count": null,
   "metadata": {},
   "outputs": [],
   "source": [
    "# categorical data must be changed to numerical\n",
    "\n",
    "train.info()"
   ]
  },
  {
   "cell_type": "code",
   "execution_count": null,
   "metadata": {},
   "outputs": [],
   "source": [
    "# missing values must be removed or imputed\n",
    "\n",
    "print(\"*****In the train set*****\")\n",
    "print(train.isna().sum())\n",
    "print(\"\\n\")\n",
    "print(\"*****In the test set*****\")\n",
    "print(test.isna().sum())"
   ]
  },
  {
   "cell_type": "code",
   "execution_count": null,
   "metadata": {},
   "outputs": [],
   "source": [
    "# if there are missing values... \n",
    "\n",
    "# Fill with mean column values in the train set\n",
    "train.fillna(train.mean(), inplace=True)\n",
    "# Fill with mean column values in the test set\n",
    "test.fillna(test.mean(), inplace=True)"
   ]
  },
  {
   "cell_type": "markdown",
   "metadata": {},
   "source": [
    "Building a K-Means Model"
   ]
  },
  {
   "cell_type": "code",
   "execution_count": 204,
   "metadata": {},
   "outputs": [],
   "source": [
    "# drop the labels\n",
    "\n",
    "X = np.array(train.drop(['label'], 1).astype(float))\n",
    "y = np.array(train['label'])"
   ]
  },
  {
   "cell_type": "code",
   "execution_count": 205,
   "metadata": {},
   "outputs": [
    {
     "data": {
      "text/plain": [
       "KMeans(algorithm='auto', copy_x=True, init='k-means++', max_iter=300,\n",
       "    n_clusters=2, n_init=10, n_jobs=None, precompute_distances='auto',\n",
       "    random_state=None, tol=0.0001, verbose=0)"
      ]
     },
     "execution_count": 205,
     "metadata": {},
     "output_type": "execute_result"
    }
   ],
   "source": [
    "# normalize the features and fit the model\n",
    "\n",
    "scaler = MinMaxScaler()\n",
    "X_scaled = scaler.fit_transform(X)\n",
    "kmeans = KMeans(n_clusters=2, max_iter=300) \n",
    "kmeans.fit(X_scaled)"
   ]
  },
  {
   "cell_type": "markdown",
   "metadata": {},
   "source": [
    "Validating our Model"
   ]
  },
  {
   "cell_type": "code",
   "execution_count": 206,
   "metadata": {},
   "outputs": [
    {
     "name": "stdout",
     "output_type": "stream",
     "text": [
      "0.9406593406593406\n"
     ]
    }
   ],
   "source": [
    "# what percentage of cases did we cluster correctly? \n",
    "\n",
    "correct = 0\n",
    "for i in range(len(X)):\n",
    "    predict_me = np.array(X_scaled[i].astype(float))\n",
    "    predict_me = predict_me.reshape(-1, len(predict_me))\n",
    "    prediction = kmeans.predict(predict_me)\n",
    "    if prediction[0] == y[i]:\n",
    "        correct += 1\n",
    "\n",
    "print(correct/len(X))"
   ]
  },
  {
   "cell_type": "code",
   "execution_count": 214,
   "metadata": {},
   "outputs": [],
   "source": [
    "y_km = kmeans.predict(X_scaled)\n",
    "#y_km"
   ]
  },
  {
   "cell_type": "code",
   "execution_count": 215,
   "metadata": {},
   "outputs": [
    {
     "data": {
      "image/png": "[encoded data removed]",
      "text/plain": [
       "<Figure size 432x288 with 1 Axes>"
      ]
     },
     "metadata": {
      "needs_background": "light"
     },
     "output_type": "display_data"
    }
   ],
   "source": [
    "# plot the 3 clusters\n",
    "plt.scatter(\n",
    "    X_scaled[y_km == 0, 0], X_scaled[y_km == 0, 1],\n",
    "    s=50, c='lightgreen',\n",
    "    marker='s', edgecolor='black',\n",
    "    label='Benign'\n",
    ")\n",
    "\n",
    "plt.scatter(\n",
    "    X_scaled[y_km == 1, 0], X_scaled[y_km == 1, 1],\n",
    "    s=50, c='orange',\n",
    "    marker='o', edgecolor='black',\n",
    "    label='Malignant'\n",
    ")\n",
    "\n",
    "\n",
    "# plot the centroids\n",
    "plt.scatter(\n",
    "    kmeans.cluster_centers_[:, 0], kmeans.cluster_centers_[:, 1],\n",
    "    s=250, marker='*',\n",
    "    c='red', edgecolor='black',\n",
    "    label='centroids'\n",
    ")\n",
    "plt.legend(scatterpoints=1)\n",
    "plt.grid()\n",
    "plt.show()"
   ]
  },
  {
   "cell_type": "code",
   "execution_count": null,
   "metadata": {},
   "outputs": [],
   "source": []
  }
 ],
 "metadata": {
  "kernelspec": {
   "display_name": "Python 3",
   "language": "python",
   "name": "python3"
  },
  "language_info": {
   "codemirror_mode": {
    "name": "ipython",
    "version": 3
   },
   "file_extension": ".py",
   "mimetype": "text/x-python",
   "name": "python",
   "nbconvert_exporter": "python",
   "pygments_lexer": "ipython3",
   "version": "3.7.3"
  }
 },
 "nbformat": 4,
 "nbformat_minor": 2
}
